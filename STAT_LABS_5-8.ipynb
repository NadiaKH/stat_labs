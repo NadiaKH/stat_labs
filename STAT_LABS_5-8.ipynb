{
 "cells": [
  {
   "cell_type": "code",
   "execution_count": null,
   "id": "stunning-complaint",
   "metadata": {},
   "outputs": [],
   "source": [
    "\n",
    "\n"
   ]
  },
  {
   "cell_type": "code",
   "execution_count": 1,
   "id": "intelligent-perspective",
   "metadata": {},
   "outputs": [],
   "source": [
    "import statistics\n",
    "import matplotlib.pyplot as plt\n",
    "import matplotlib.transforms as transforms\n",
    "import numpy as np\n",
    "import scipy.stats as stats\n",
    "#import tabulate\n",
    "from matplotlib.patches import Ellipse\n",
    "\n",
    "import pandas as pd \n",
    "\n",
    "\n",
    "sample_sizes = [20, 60, 100]\n",
    "rhos = [0, 0.5, 0.9]\n",
    "mean = [0, 0]\n",
    "tests_repetition_number = 1000\n",
    "\n",
    "\n",
    "def get_random_variables_value(sample_size, cov, is_mixed):\n",
    "    # Generates a 2D array\n",
    "    if is_mixed:\n",
    "        return 0.9 * stats.multivariate_normal.rvs(mean, [[1, 0.9], [0.9, 1]], sample_size) \\\n",
    "             + 0.1 * stats.multivariate_normal.rvs(mean, [[10, -9], [-9, 10]], sample_size)\n",
    "    return stats.multivariate_normal.rvs(mean, [[1, cov], [cov, 1]], sample_size)\n",
    "\n",
    "\n",
    "def calc_quadrant_corr_coef(x, y):\n",
    "    med_x = np.median(x)\n",
    "    med_y = np.median(y)\n",
    "    return np.mean(np.sign(x - med_x) * np.sign(y - med_y))\n",
    "\n",
    "\n",
    "def get_coefficients_list(sample_size, cov, is_mixed):\n",
    "    \"\"\"\n",
    "    Generates sample <tests_repetition_numer> times and\n",
    "    calculates Pearson, Spearman, quadrant coefficients for this sample and writes them into lists\n",
    "    \"\"\"\n",
    "    pearson_coefs = []\n",
    "    spearman_coefs = []\n",
    "    quadrant_coefs = []\n",
    "    for _ in range(tests_repetition_number):\n",
    "        sample = get_random_variables_value(sample_size, cov, is_mixed)\n",
    "        x, y = sample[:, 0], sample[:, 1]\n",
    "        pearson_coefs.append(stats.pearsonr(x, y)[0])\n",
    "        spearman_coefs.append(stats.spearmanr(x, y)[0])\n",
    "        quadrant_coefs.append(calc_quadrant_corr_coef(x, y))\n",
    "    \n",
    "    coefs = np.array([pearson_coefs, spearman_coefs, quadrant_coefs]) \n",
    "    mean = np.mean(coefs, axis = 1)\n",
    "    square_mean = np.mean(coefs ** 2, axis=1)\n",
    "    std = np.sqrt(square_mean - mean ** 2)\n",
    "    return pd.DataFrame({'mean': mean, 'square_mean' : square_mean, 'std' : std}\n",
    "                        , index= ['pearson', 'spearman', 'quadrant'])\n",
    "    "
   ]
  },
  {
   "cell_type": "code",
   "execution_count": 24,
   "id": "banned-forestry",
   "metadata": {},
   "outputs": [
    {
     "name": "stdout",
     "output_type": "stream",
     "text": [
      "\\begin{tabular}{lrrr}\n",
      "\\toprule\n",
      "{} &   mean &  square\\_mean &    std \\\\\n",
      "\\midrule\n",
      "pearson  &  0.702 &        0.495 &  0.052 \\\\\n",
      "spearman &  0.681 &        0.467 &  0.057 \\\\\n",
      "quadrant &  0.492 &        0.249 &  0.086 \\\\\n",
      "\\bottomrule\n",
      "\\end{tabular}\n",
      "\n",
      "\\begin{tabular}{lrrr}\n",
      "\\toprule\n",
      "{} &   mean &  square\\_mean &    std \\\\\n",
      "\\midrule\n",
      "pearson  &  0.699 &        0.492 &  0.052 \\\\\n",
      "spearman &  0.678 &        0.463 &  0.059 \\\\\n",
      "quadrant &  0.490 &        0.248 &  0.088 \\\\\n",
      "\\bottomrule\n",
      "\\end{tabular}\n",
      "\n",
      "\\begin{tabular}{lrrr}\n",
      "\\toprule\n",
      "{} &   mean &  square\\_mean &    std \\\\\n",
      "\\midrule\n",
      "pearson  &  0.700 &        0.492 &  0.052 \\\\\n",
      "spearman &  0.679 &        0.464 &  0.060 \\\\\n",
      "quadrant &  0.487 &        0.246 &  0.091 \\\\\n",
      "\\bottomrule\n",
      "\\end{tabular}\n",
      "\n"
     ]
    }
   ],
   "source": [
    "print(np.round(get_coefficients_list(100, 0.0, True), 3).to_latex())\n",
    "print(np.round(get_coefficients_list(100, 0.5, True), 3).to_latex())\n",
    "print(np.round(get_coefficients_list(100, 0.9, True), 3).to_latex())"
   ]
  },
  {
   "cell_type": "code",
   "execution_count": null,
   "id": "disciplinary-omaha",
   "metadata": {},
   "outputs": [],
   "source": []
  },
  {
   "cell_type": "code",
   "execution_count": null,
   "id": "accepting-deviation",
   "metadata": {},
   "outputs": [],
   "source": []
  },
  {
   "cell_type": "code",
   "execution_count": 3,
   "id": "measured-academy",
   "metadata": {},
   "outputs": [],
   "source": [
    "\n",
    "def get_coeffs(is_mixed):\n",
    "    \n",
    "    sample_size = [20, 60, 100]\n",
    "    ro = [0, 0.5, 0.9]\n",
    "\n",
    "    a = np.repeat(ro, 3)\n",
    "    b = np.tile(sample_size, 3)\n",
    "\n",
    "    index =  pd.MultiIndex.from_tuples(list(zip(a, b)), names=[\"corr\", \"sample_size\"])\n",
    "\n",
    "    descript = pd.DataFrame(columns=[\"mean\", \"square_mean\", \"std\"], index=index )\n",
    "\n",
    "\n",
    "    coeffs = {\"pearson\": descript.copy(), \"spearman\": descript.copy(), \"quadrant\": descript.copy()}\n",
    "    \n",
    "\n",
    "    for i in index:\n",
    "        df = get_coefficients_list(i[1], i[0], is_mixed)\n",
    "    \n",
    "        for name in df.index:\n",
    "            coeffs[name].loc[i]['mean'] = df['mean'][name]\n",
    "            coeffs[name].loc[i]['square_mean'] = df['square_mean'][name]\n",
    "            coeffs[name].loc[i]['std'] = df['std'][name]\n",
    "    return coeffs\n"
   ]
  },
  {
   "cell_type": "code",
   "execution_count": 4,
   "id": "retained-bibliography",
   "metadata": {},
   "outputs": [
    {
     "data": {
      "text/plain": [
       "{'pearson':                       mean square_mean       std\n",
       " corr sample_size                                \n",
       " 0.0  20           0.002978    0.051324  0.226529\n",
       "      60          -0.002101    0.017728   0.13313\n",
       "      100          0.004456    0.009962  0.099712\n",
       " 0.5  20           0.479945     0.26396  0.183338\n",
       "      60            0.49481    0.254699  0.099311\n",
       "      100          0.494218    0.250075  0.076311\n",
       " 0.9  20           0.893782    0.801652  0.052968\n",
       "      60           0.897034    0.805392  0.026884\n",
       "      100          0.899103     0.80879  0.020089,\n",
       " 'spearman':                       mean square_mean       std\n",
       " corr sample_size                                \n",
       " 0.0  20           0.000663    0.050585   0.22491\n",
       "      60          -0.004559    0.017517  0.132273\n",
       "      100          0.003211    0.009797  0.098927\n",
       " 0.5  20           0.452388    0.241018  0.190691\n",
       "      60           0.472362    0.234275  0.105591\n",
       "      100          0.473978    0.231274  0.081358\n",
       " 0.9  20           0.863227    0.750182  0.070859\n",
       "      60           0.880371    0.776299  0.035298\n",
       "      100          0.885752    0.785177  0.024903,\n",
       " 'quadrant':                       mean square_mean       std\n",
       " corr sample_size                                \n",
       " 0.0  20            -0.0074     0.04884  0.220874\n",
       "      60          -0.004333    0.017204  0.131094\n",
       "      100           0.00032    0.009808  0.099035\n",
       " 0.5  20              0.309     0.14116  0.213726\n",
       "      60             0.3276    0.122782   0.12434\n",
       "      100           0.33072    0.118026  0.093005\n",
       " 0.9  20             0.6916     0.50616  0.166882\n",
       "      60           0.701133    0.500387  0.093801\n",
       "      100           0.70908    0.507678  0.069885}"
      ]
     },
     "execution_count": 4,
     "metadata": {},
     "output_type": "execute_result"
    }
   ],
   "source": [
    "\n",
    "get_coeffs(False)\n",
    "\n",
    "\n"
   ]
  },
  {
   "cell_type": "code",
   "execution_count": 5,
   "id": "racial-ticket",
   "metadata": {},
   "outputs": [],
   "source": [
    "def confidence_ellipse(x, y, ax, n_std=3.0, facecolor='none', **kwargs):\n",
    "    \"\"\"\n",
    "    Creates a plot of the covariance confidence ellipse of x and y.\n",
    "    \"\"\"\n",
    "    if x.size != y.size:\n",
    "        raise ValueError(\"x and y must be the same size\")\n",
    "    cov = np.cov(x, y)\n",
    "    pearson = cov[0, 1] / np.sqrt(cov[0, 0] * cov[1, 1])\n",
    "    ell_radius_x = np.sqrt(1 + pearson)\n",
    "    ell_radius_y = np.sqrt(1 - pearson)\n",
    "    ellipse = Ellipse((0, 0), width=ell_radius_x * 2, height=ell_radius_y * 2, facecolor=facecolor, **kwargs)\n",
    "    scale_x = np.sqrt(cov[0, 0]) * n_std\n",
    "    mean_x = np.mean(x)\n",
    "    scale_y = np.sqrt(cov[1, 1]) * n_std\n",
    "    mean_y = np.mean(y)\n",
    "    transf = transforms.Affine2D() \\\n",
    "        .rotate_deg(45) \\\n",
    "        .scale(scale_x, scale_y) \\\n",
    "        .translate(mean_x, mean_y)\n",
    "    ellipse.set_transform(transf + ax.transData)\n",
    "    return ax.add_patch(ellipse)\n",
    "\n",
    "\n",
    "def plot_ellipses(samples):\n",
    "    \"\"\"\n",
    "    For each sample in samples of normally distributed data plots its confidence ellipse and the data itself.\n",
    "    \"\"\"\n",
    "    sample_size = len(samples[0])\n",
    "    fig, ax = plt.subplots(1, len(samples))\n",
    "    fig.suptitle(\"Sample size = \" + str(sample_size))\n",
    "    titles = ['$ \\\\rho = 0$', '$\\\\rho = 0.5 $', '$ \\\\rho = 0.9$']\n",
    "    i = 0\n",
    "    for sample in samples:\n",
    "        x = sample[:, 0]\n",
    "        y = sample[:, 1]\n",
    "        ax[i].scatter(x, y, c='black', s=3)\n",
    "        confidence_ellipse(x, y, ax[i], edgecolor='orange')\n",
    "        ax[i].scatter(np.mean(x), np.mean(y), c='black', s=3)\n",
    "        ax[i].set_title(titles[i])\n",
    "        i += 1\n",
    "    ax[0].set_xlabel(\"X\")\n",
    "    ax[0].set_ylabel(\"Y\")\n",
    "    plt.savefig(f\"ellipse_{str(sample_size)}.png\", format='png')\n",
    "\n"
   ]
  },
  {
   "cell_type": "code",
   "execution_count": 6,
   "id": "impressed-devil",
   "metadata": {},
   "outputs": [
    {
     "data": {
      "image/png": "[encoded data removed]",
      "text/plain": [
       "<Figure size 432x288 with 3 Axes>"
      ]
     },
     "metadata": {
      "needs_background": "light"
     },
     "output_type": "display_data"
    },
    {
     "data": {
      "image/png": "[encoded data removed]",
      "text/plain": [
       "<Figure size 432x288 with 3 Axes>"
      ]
     },
     "metadata": {
      "needs_background": "light"
     },
     "output_type": "display_data"
    },
    {
     "data": {
      "image/png": "[encoded data removed]",
      "text/plain": [
       "<Figure size 432x288 with 3 Axes>"
      ]
     },
     "metadata": {
      "needs_background": "light"
     },
     "output_type": "display_data"
    }
   ],
   "source": [
    "samples = []\n",
    "for sample_size in sample_sizes:\n",
    "    for rho in rhos:\n",
    "        samples.append(get_random_variables_value(sample_size, rho, False))\n",
    "    plot_ellipses(samples)\n",
    "    samples = []"
   ]
  },
  {
   "cell_type": "code",
   "execution_count": null,
   "id": "ignored-kazakhstan",
   "metadata": {},
   "outputs": [],
   "source": []
  },
  {
   "cell_type": "code",
   "execution_count": null,
   "id": "formal-narrative",
   "metadata": {},
   "outputs": [],
   "source": []
  },
  {
   "cell_type": "code",
   "execution_count": null,
   "id": "ordered-cincinnati",
   "metadata": {},
   "outputs": [],
   "source": []
  },
  {
   "cell_type": "code",
   "execution_count": null,
   "id": "systematic-tutorial",
   "metadata": {},
   "outputs": [],
   "source": []
  },
  {
   "cell_type": "code",
   "execution_count": null,
   "id": "objective-passenger",
   "metadata": {},
   "outputs": [],
   "source": []
  },
  {
   "cell_type": "code",
   "execution_count": null,
   "id": "healthy-blame",
   "metadata": {},
   "outputs": [],
   "source": []
  },
  {
   "cell_type": "code",
   "execution_count": null,
   "id": "first-respondent",
   "metadata": {},
   "outputs": [],
   "source": []
  },
  {
   "cell_type": "code",
   "execution_count": null,
   "id": "popular-white",
   "metadata": {},
   "outputs": [],
   "source": []
  },
  {
   "cell_type": "code",
   "execution_count": null,
   "id": "collectible-brick",
   "metadata": {},
   "outputs": [],
   "source": []
  },
  {
   "cell_type": "code",
   "execution_count": null,
   "id": "neutral-knight",
   "metadata": {},
   "outputs": [],
   "source": []
  },
  {
   "cell_type": "code",
   "execution_count": null,
   "id": "empty-aviation",
   "metadata": {},
   "outputs": [],
   "source": []
  },
  {
   "cell_type": "code",
   "execution_count": null,
   "id": "affecting-durham",
   "metadata": {},
   "outputs": [],
   "source": []
  },
  {
   "cell_type": "code",
   "execution_count": null,
   "id": "infinite-material",
   "metadata": {},
   "outputs": [],
   "source": []
  },
  {
   "cell_type": "code",
   "execution_count": null,
   "id": "virgin-enhancement",
   "metadata": {},
   "outputs": [],
   "source": []
  },
  {
   "cell_type": "code",
   "execution_count": 7,
   "id": "christian-organization",
   "metadata": {},
   "outputs": [],
   "source": [
    "import numpy as np\n",
    "import scipy.stats as stats\n",
    "import scipy.optimize as opt\n",
    "from matplotlib import pyplot as plt\n",
    "\n",
    "sample_size = 20\n",
    "bounds = -1.8, 2\n",
    "step = 0.2\n",
    "mu, sigma_squared = 0, 1\n",
    "coefs = 2, 2\n",
    "perturbations = [10, -10]\n",
    "\n",
    "\n",
    "def leastSquares(x, y):\n",
    "    b_ls = (np.mean(x * y) - np.mean(x) * np.mean(y)) / (np.mean(x * x) - np.mean(x) ** 2)\n",
    "    a_ls = np.mean(y) - b_ls * np.mean(x)\n",
    "    return a_ls, b_ls\n",
    "\n",
    "\n",
    "def leastModulo(x, y, initial_guess):\n",
    "    functionToMinimize = lambda beta: np.sum(np.abs(y - beta[0] - beta[1] * x))\n",
    "    result = opt.minimize(functionToMinimize, initial_guess)\n",
    "    a_lm = result['x'][0]\n",
    "    b_lm = result['x'][1]\n",
    "    return a_lm, b_lm\n",
    "\n",
    "\n",
    "def coefficientEstimates(x, y):\n",
    "    a_ls, b_ls = leastSquares(x, y)\n",
    "    a_lm, b_lm = leastModulo(x, y, np.array([0, 0]))\n",
    "    return a_ls, b_ls, a_lm, b_lm\n",
    "\n",
    "\n",
    "def printEstimates(type, estimates):\n",
    "    a_ls, b_ls, a_lm, b_lm = estimates\n",
    "    print(type)\n",
    "    print(\"Least Squares - МНК\")\n",
    "    print('a_ls = ' + str(np.around(a_ls, decimals=2)))\n",
    "    print('b_ls = ' + str(np.around(b_ls, decimals=2)))\n",
    "    print(\"Least Modulo - МНМ\")\n",
    "    print('a_lm = ' + str(np.around(a_lm, decimals=2)))\n",
    "    print('b_lm = ' + str(np.around(b_lm, decimals=2)))\n",
    "\n",
    "    \n",
    "    \n",
    "def criteriaComparison(x, estimates):\n",
    "    a_ls, b_ls, a_lm, b_lm = estimates\n",
    "    model = lambda x: coefs[0] + coefs[1] * x\n",
    "    # least squares criteria\n",
    "    lsc = lambda x: a_ls + b_ls * x\n",
    "    # least modulo criteria\n",
    "    lmc = lambda x: a_lm + b_lm * x\n",
    "    sum_ls, sum_lm = 0, 0\n",
    "    for point in x:\n",
    "        y_ls = lsc(point)\n",
    "        y_lm = lmc(point)\n",
    "        y_model = model(point)\n",
    "        sum_ls += pow(y_model - y_ls, 2)\n",
    "        sum_lm += pow(y_model - y_lm, 2)\n",
    "    print(\"Least squares approximate better! - \", sum_ls, \" < \", sum_lm) if sum_ls < sum_lm\\\n",
    "        else print(\"Least modulo approximates better! - \", sum_lm, \" < \", sum_ls)\n",
    "\n",
    "\n",
    "\n",
    "\n",
    "\n",
    "#for type in ['Without perturbations', 'With perturbations']:\n",
    "#    estimates = coefficientEstimates(x, y)\n",
    "#    printEstimates(type, estimates)\n",
    "#    plotRegression(x, y, type, estimates)\n",
    "#    criteriaComparison(x, estimates)\n",
    "#    y[0] += perturbations[0]\n",
    "#    y[-1] += perturbations[1]\n",
    "\n"
   ]
  },
  {
   "cell_type": "code",
   "execution_count": 13,
   "id": "breathing-disposition",
   "metadata": {},
   "outputs": [
    {
     "data": {
      "text/plain": [
       "<matplotlib.legend.Legend at 0x7f455a167580>"
      ]
     },
     "execution_count": 13,
     "metadata": {},
     "output_type": "execute_result"
    },
    {
     "data": {
      "image/png": "[encoded data removed]",
      "text/plain": [
       "<Figure size 432x288 with 1 Axes>"
      ]
     },
     "metadata": {
      "needs_background": "light"
     },
     "output_type": "display_data"
    },
    {
     "data": {
      "image/png": "[encoded data removed]",
      "text/plain": [
       "<Figure size 432x288 with 1 Axes>"
      ]
     },
     "metadata": {
      "needs_background": "light"
     },
     "output_type": "display_data"
    }
   ],
   "source": [
    "x = np.linspace(bounds[0], bounds[1], sample_size)\n",
    "y = coefs[0] + coefs[1] * x + stats.norm(0, 1).rvs(sample_size)\n",
    "\n",
    "\n",
    "a_s, b_s, a_m, b_m = coefficientEstimates(x, y)\n",
    "\n",
    "plt.title('sample with normal error without perturbation')\n",
    "plt.scatter(x, y, color='orange')\n",
    "plt.plot(x, a_s * x + b_s, color='green', label = 'least squares')\n",
    "plt.plot(x, a_m * x + b_m, label='modulo')\n",
    "plt.legend()\n",
    "\n",
    "plt.figure()\n",
    "y[0] += 10\n",
    "y[-1] -= 10\n",
    "\n",
    "a_s, b_s, a_m, b_m = coefficientEstimates(x, y)\n",
    "\n",
    "plt.title('sample with normal error with perturbation')\n",
    "plt.scatter(x, y, color='orange')\n",
    "plt.plot(x, a_s * x + b_s, color='green', label='least squares')\n",
    "plt.plot(x, a_m * x + b_m, label='modulo')\n",
    "plt.legend()"
   ]
  },
  {
   "cell_type": "code",
   "execution_count": 9,
   "id": "contrary-terrace",
   "metadata": {},
   "outputs": [
    {
     "name": "stdout",
     "output_type": "stream",
     "text": [
      "Least modulo approximates better! -  0.2665170056193474  <  51.424343628615674\n"
     ]
    }
   ],
   "source": [
    "\n",
    "criteriaComparison(x, [a_s, b_s, a_m, b_m])"
   ]
  },
  {
   "cell_type": "code",
   "execution_count": null,
   "id": "academic-postage",
   "metadata": {},
   "outputs": [],
   "source": []
  },
  {
   "cell_type": "code",
   "execution_count": null,
   "id": "tracked-certification",
   "metadata": {},
   "outputs": [],
   "source": []
  },
  {
   "cell_type": "code",
   "execution_count": null,
   "id": "greek-consequence",
   "metadata": {},
   "outputs": [],
   "source": []
  },
  {
   "cell_type": "code",
   "execution_count": null,
   "id": "common-lodging",
   "metadata": {},
   "outputs": [],
   "source": []
  },
  {
   "cell_type": "code",
   "execution_count": null,
   "id": "approved-overhead",
   "metadata": {},
   "outputs": [],
   "source": []
  },
  {
   "cell_type": "code",
   "execution_count": null,
   "id": "powered-universe",
   "metadata": {},
   "outputs": [],
   "source": []
  },
  {
   "cell_type": "code",
   "execution_count": null,
   "id": "arranged-remove",
   "metadata": {},
   "outputs": [],
   "source": []
  },
  {
   "cell_type": "code",
   "execution_count": null,
   "id": "global-brooklyn",
   "metadata": {},
   "outputs": [],
   "source": []
  },
  {
   "cell_type": "code",
   "execution_count": 10,
   "id": "whole-offense",
   "metadata": {},
   "outputs": [
    {
     "name": "stdout",
     "output_type": "stream",
     "text": [
      "mu_ml =  0.08  sigma_ml= 0.84\n",
      "([[1, ['$-\\\\infty$', -1.5], 0, 0.0298, 0.6, -0.6, 0.6], [2, [-1.5, -0.5], 5, 0.215, 4.3, 0.7, 0.11], [3, [-0.5, 0.5], 9, 0.4473, 8.95, 0.05, 0.0], [4, [0.5, 1.5], 5, 0.2628, 5.26, -0.26, 0.01], [5, [1.5, '$\\\\infty$'], 1, 0.0451, 0.9, 0.1, 0.01], ['\\\\sum', '--', 20, 1.0, 20.0, -0.0, 0.73]], ['$i$', '$\\\\Delta_i = [a_{i-1}, a_i)$', '$n_i$', '$p_i$', '$np_i$', '$n_i - np_i$', '$(n_i - np_i)^2/np_i$'])\n",
      "Hypothesis Accepted!\n"
     ]
    }
   ],
   "source": [
    "import numpy as np\n",
    "\n",
    "import scipy.stats as stats\n",
    "\n",
    "start_border, end_border = -1.5, 1.5\n",
    "sample_size = 20\n",
    "alpha = 0.05\n",
    "p = 1 - alpha\n",
    "k = 5\n",
    "\n",
    "\n",
    "def MLE(sample):\n",
    "    \"\"\"\n",
    "        Calculates maximum likelihood estimations\n",
    "        of μ, σ for normally distributed variates.\n",
    "    \"\"\"\n",
    "    mu_ml = np.mean(sample)\n",
    "    sigma_ml = np.std(sample)\n",
    "    print(\"mu_ml = \", np.around(mu_ml, decimals=2),\n",
    "          \" sigma_ml=\", np.around(sigma_ml, decimals=2))\n",
    "    return mu_ml, sigma_ml\n",
    "\n",
    "\n",
    "def quantile_chi2(sample, mu, sigma):\n",
    "    \"\"\"\n",
    "        Decides whether to accept the hypothesis that N(mu, sigma)\n",
    "        describes the given sample using chi2 criteria.\n",
    "        Calculates sample value of chi2 statistic for a given sample.\n",
    "    \"\"\"\n",
    "    hypothesis = lambda x: stats.norm.cdf(x, loc=mu, scale=sigma)\n",
    "\n",
    "    borders = np.linspace(start_border, end_border, num=k - 1)  # 𝑎0 = −∞, 𝑎𝑘 = +∞\n",
    "\n",
    "    probabilities = np.array(hypothesis(start_border))\n",
    "    quantities = np.array(len(sample[sample < start_border]))\n",
    "\n",
    "    for i in range(k - 2):\n",
    "        p_i = hypothesis(borders[i + 1]) - hypothesis(borders[i])\n",
    "        probabilities = np.append(probabilities, p_i)\n",
    "        n_i = len(sample[(sample < borders[i + 1]) & (sample >= borders[i])])\n",
    "        quantities = np.append(quantities, n_i)\n",
    "\n",
    "    probabilities = np.append(probabilities, 1 - hypothesis(end_border))\n",
    "    quantities = np.append(quantities, len(sample[sample >= end_border]))\n",
    "\n",
    "    chi2 = np.divide(\n",
    "        np.multiply(\n",
    "            (quantities - sample_size * probabilities),\n",
    "            (quantities - sample_size * probabilities)\n",
    "        ),\n",
    "        probabilities * sample_size\n",
    "    )\n",
    "\n",
    "    quantile = stats.chi2.ppf(p, k - 1)\n",
    "    isAccepted = True if quantile > np.sum(chi2) else False\n",
    "    return chi2, isAccepted, borders, probabilities, quantities\n",
    "\n",
    "\n",
    "def build_table(chi2, borders, probabilities, quantities):\n",
    "    \"\"\"\n",
    "        Builds chi2 calculation table.\n",
    "    \"\"\"\n",
    "    headers = [\"$i$\", \"$\\\\Delta_i = [a_{i-1}, a_i)$\", \"$n_i$\", \"$p_i$\",\n",
    "               \"$np_i$\", \"$n_i - np_i$\", \"$(n_i - np_i)^2/np_i$\"]\n",
    "    rows = []\n",
    "    for i in range(0, len(quantities)):\n",
    "        if i == 0:\n",
    "            limits = [\"$-\\infty$\", np.around(borders[0], decimals=2)]\n",
    "        elif i == len(quantities) - 1:\n",
    "            limits = [np.around(borders[-1], decimals=2), \"$\\infty$\"]\n",
    "        else:\n",
    "            limits = [np.around(borders[i - 1], decimals=2), np.around(borders[i], decimals=2)]\n",
    "        rows.append(\n",
    "            [i + 1,\n",
    "             limits,\n",
    "             quantities[i],\n",
    "             np.around(probabilities[i], decimals=4),\n",
    "             np.around(probabilities[i] * sample_size, decimals=2),\n",
    "             np.around(quantities[i] - sample_size * probabilities[i], decimals=2),\n",
    "             np.around(chi2[i], decimals=2)]\n",
    "        )\n",
    "    rows.append([\"\\\\sum\", \"--\", np.sum(quantities), np.around(np.sum(probabilities), decimals=4),\n",
    "                 np.around(np.sum(probabilities * sample_size), decimals=2),\n",
    "                 -np.around(np.sum(quantities - sample_size * probabilities), decimals=2),\n",
    "                 np.around(np.sum(chi2), decimals=2)]\n",
    "    )\n",
    "    return rows, headers\n",
    "\n",
    "\n",
    "\n",
    "normal_sample = np.random.normal(0, 1, size=sample_size)\n",
    "mu_ml, sigma_ml = MLE(normal_sample)\n",
    "chi2, isAccepted, borders, probabilities, quantities = quantile_chi2(normal_sample, mu_ml, sigma_ml)\n",
    "print(build_table(chi2, borders, probabilities, quantities))\n",
    "print(\"Hypothesis Accepted!\") if isAccepted else print(\"Hypothesis Not Accepted!\")\n"
   ]
  },
  {
   "cell_type": "code",
   "execution_count": null,
   "id": "vocational-depth",
   "metadata": {},
   "outputs": [],
   "source": []
  },
  {
   "cell_type": "code",
   "execution_count": null,
   "id": "velvet-lyric",
   "metadata": {},
   "outputs": [],
   "source": []
  },
  {
   "cell_type": "code",
   "execution_count": null,
   "id": "federal-screening",
   "metadata": {},
   "outputs": [],
   "source": []
  }
 ],
 "metadata": {
  "kernelspec": {
   "display_name": "Python 3",
   "language": "python",
   "name": "python3"
  },
  "language_info": {
   "codemirror_mode": {
    "name": "ipython",
    "version": 3
   },
   "file_extension": ".py",
   "mimetype": "text/x-python",
   "name": "python",
   "nbconvert_exporter": "python",
   "pygments_lexer": "ipython3",
   "version": "3.8.8"
  }
 },
 "nbformat": 4,
 "nbformat_minor": 5
}
